{
 "cells": [
  {
   "cell_type": "code",
   "execution_count": 1,
   "metadata": {},
   "outputs": [],
   "source": [
    "import numpy as np\n",
    "import matplotlib.pyplot as plt\n",
    "import glob\n",
    "%matplotlib inline\n"
   ]
  },
  {
   "cell_type": "code",
   "execution_count": 13,
   "metadata": {},
   "outputs": [
    {
     "name": "stdout",
     "output_type": "stream",
     "text": [
      "Teff8649logg4.824.csv\n"
     ]
    }
   ],
   "source": [
    "# Use glob.glob() to read in the names of all the '*.csv' files\n",
    "files = glob.glob('*.csv')\n",
    "print(files[0])"
   ]
  },
  {
   "cell_type": "code",
   "execution_count": 37,
   "metadata": {},
   "outputs": [
    {
     "name": "stdout",
     "output_type": "stream",
     "text": [
      "[15.81 15.91 15.99 15.96 15.97 15.97 15.97 15.95 16.02 16.01 15.99 16.\n",
      " 15.93 15.92 15.91 15.9  15.97 15.98 15.96 15.98 15.91 15.92 15.94 15.93\n",
      " 15.97 15.97 15.96 15.95 15.98 15.96 15.97 15.96 15.96 15.96 15.97 15.97\n",
      " 15.94 15.95 15.96 15.96 15.94 15.93 15.93 15.96 15.93 15.94 15.93 15.94\n",
      " 15.95 15.96 15.96 15.94 15.97 15.98 15.98 15.97 15.99 16.01 15.98 15.98]\n"
     ]
    }
   ],
   "source": [
    "# Write code to read in the data in the first file. You can use the \n",
    "# \"loadtxt\" command with the appropriate values set for \"skiprows\" and \"delimiter\".\n",
    "# Store the values in the columns labelled \"Mag\" and \"Magerr\" in variable names\n",
    "# of your own choosing.\n",
    "Mag, Magerr = np.loadtxt(files[0], delimiter=',', skiprows=1, usecols=(1,2), unpack=True)\n",
    "print(Mag)"
   ]
  },
  {
   "cell_type": "code",
   "execution_count": 34,
   "metadata": {},
   "outputs": [
    {
     "name": "stdout",
     "output_type": "stream",
     "text": [
      "0.5490235630376121\n"
     ]
    }
   ],
   "source": [
    "# Write a function that takes as arguments the list \"Mag\" and the list \"Magerr\" from \n",
    "# the previous cell. Calculate the standard deviation of \"Mag\", and divide it by the\n",
    "# average of \"Magerr\", and return this value. Test this on the data from the file in \n",
    "# the cell above to make sure it doesn't cause an error. \n",
    "def testVariance(magnitude, mag_error):\n",
    "    return np.std(magnitude)/np.mean(mag_error)\n",
    "print(testVariance(Mag, Magerr))"
   ]
  },
  {
   "cell_type": "code",
   "execution_count": 44,
   "metadata": {},
   "outputs": [],
   "source": [
    "# To help simplify this lab a little, we provide the function below. If you call it\n",
    "# with one of the names of the *.csv files, it will pull out the part of the name\n",
    "# that gives the Teff of the star (as well as its log g value) and return them.\n",
    "# \n",
    "def get_vals(fname):\n",
    "    Teff = fname[4:8]\n",
    "    logg = fname[12:17]\n",
    "    Teff = float(Teff)\n",
    "    logg = float(logg)\n",
    "    return Teff,logg\n",
    "    \n"
   ]
  },
  {
   "cell_type": "code",
   "execution_count": 46,
   "metadata": {},
   "outputs": [
    {
     "name": "stdout",
     "output_type": "stream",
     "text": [
      "Teff8649logg4.824.csv (8649.0, 4.824) 0.5490235630376121\n",
      "Teff8633logg5.129.csv (8633.0, 5.129) 0.6449346819210732\n",
      "Teff8197logg5.568.csv (8197.0, 5.568) 0.7475710513448904\n",
      "Teff7943logg5.611.csv (7943.0, 5.611) 0.7382399057454555\n",
      "Teff7228logg4.838.csv (7228.0, 4.838) 0.6908349079083015\n",
      "Teff8557logg5.061.csv (8557.0, 5.061) 0.8334910077218349\n",
      "Teff7602logg4.986.csv (7602.0, 4.986) 1.0200889253761465\n",
      "Teff7785logg5.040.csv (7785.0, 5.04) 2.045056493131193\n",
      "Teff7364logg4.906.csv (7364.0, 4.906) 3.084745983085907\n",
      "Teff7822logg5.350.csv (7822.0, 5.35) 0.7647380749518917\n",
      "Teff7811logg5.354.csv (7811.0, 5.354) 0.4622742524925437\n",
      "Teff8335logg4.938.csv (8335.0, 4.938) 0.6028100016438537\n",
      "Teff7554logg5.012.csv (7554.0, 5.012) 0.9137991505869875\n",
      "Teff7346logg4.987.csv (7346.0, 4.987) 0.8482494724622464\n",
      "Teff7594logg4.929.csv (7594.0, 4.929) 2.5924168436988726\n",
      "Teff8200logg4.820.csv (8200.0, 4.82) 4.383257998002345\n",
      "Teff7481logg5.056.csv (7481.0, 5.056) 0.49680598973864654\n",
      "Teff6875logg5.344.csv (6875.0, 5.344) 3.9757492192329686\n"
     ]
    }
   ],
   "source": [
    "# Now, write a for loop that goes through the full list of files. Build up in stages what\n",
    "# the loop does. First, have it print out the name of each file. Then add in the above\n",
    "# \"get_vals()\" command to calculate the temperature and gravity contained in each file name. \n",
    "# Now, go back and add in the loadtxt command, so that you read in the list of magnitudes and \n",
    "# the errors on the magnitudes for each star. Finally, call the function that you wrote which \n",
    "# divides the standard deviation of the magnitudes by \"Magerr\" to calculate the extra variability \n",
    "# that each object possesses.\n",
    "T_eff = []\n",
    "var_metric = []\n",
    "for file in files:\n",
    "    Mag, Magerr = np.loadtxt(file, delimiter=',', skiprows=1, usecols=(1,2), unpack=True)\n",
    "    T_eff.append(get_vals(file)[0])\n",
    "    var_metric.append(testVariance(Mag, Magerr))\n",
    "    print(file, get_vals(file), testVariance(Mag, Magerr))"
   ]
  },
  {
   "cell_type": "code",
   "execution_count": 62,
   "metadata": {},
   "outputs": [
    {
     "data": {
      "image/png": "[encoded data removed]",
      "text/plain": [
       "<Figure size 432x288 with 1 Axes>"
      ]
     },
     "metadata": {
      "needs_background": "light"
     },
     "output_type": "display_data"
    }
   ],
   "source": [
    "# Make a scatter plot (Google \"plt.scatter()\") of this: Plot variability (y-axis) versus temperature (x-axis). \n",
    "# Once you have it looking the way you want, save a copy to disk (Google \"plt.savefig\"). \n",
    "color = np.where(np.array(var_metric)<1.2,'b','r')\n",
    "mark = []\n",
    "h = plt.scatter(T_eff,var_metric, c=color)\n",
    "plt.gca().invert_xaxis()\n",
    "plt.xlabel('Effective Temp(K)')\n",
    "plt.ylabel('Variability Level')\n",
    "plt.savefig(\"Lab2Plot\")"
   ]
  },
  {
   "cell_type": "code",
   "execution_count": null,
   "metadata": {},
   "outputs": [],
   "source": [
    "# Also, save a PDF copy of your Jupyter Notebook to disk (in the notebook menu do \"File > Print Preview\", \n",
    "# and when the preview shows up do \"File > Export as PDF\" from the Safari menu **at the top of the screen**).\n",
    "# Submit both the PDF of the figure and the notebook on Canvas..."
   ]
  }
 ],
 "metadata": {
  "kernelspec": {
   "display_name": "Python 3 (ipykernel)",
   "language": "python",
   "name": "python3"
  },
  "language_info": {
   "codemirror_mode": {
    "name": "ipython",
    "version": 3
   },
   "file_extension": ".py",
   "mimetype": "text/x-python",
   "name": "python",
   "nbconvert_exporter": "python",
   "pygments_lexer": "ipython3",
   "version": "3.10.0"
  }
 },
 "nbformat": 4,
 "nbformat_minor": 2
}
